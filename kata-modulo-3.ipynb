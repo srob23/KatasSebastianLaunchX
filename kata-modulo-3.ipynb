{
 "cells": [
  {
   "cell_type": "markdown",
   "metadata": {},
   "source": [
    "# Ejercicio if, else y elif\n",
    "\n",
    "Escribir una lógica condicional que imprima una advertencia si un asteroide se acerca a la Tierra demasiado rápido. La velocidad del asteroide varía dependiendo de lo cerca que esté del sol, y cualquier velocidad superior a 25 kilómetros por segundo (km/s) merece una advertencia."
   ]
  },
  {
   "cell_type": "code",
   "execution_count": 1,
   "metadata": {},
   "outputs": [
    {
     "name": "stdout",
     "output_type": "stream",
     "text": [
      "El asteroide se está acercando demasiado rápido!\n"
     ]
    }
   ],
   "source": [
    "velocidad = 49 \n",
    "\n",
    "if velocidad > 25:\n",
    "    print(\"El asteroide se está acercando demasiado rápido!\")\n"
   ]
  },
  {
   "cell_type": "markdown",
   "metadata": {},
   "source": [
    "Escribir una lógica para alertar a las personas de todo el mundo que deben buscar un asteroide en el cielo. ¡Hay uno que se dirige a la tierra ahora a una velocidad de 19 km/s!"
   ]
  },
  {
   "cell_type": "code",
   "execution_count": 2,
   "metadata": {},
   "outputs": [],
   "source": [
    "velocidadEnAtmosfera = 19\n",
    "\n",
    "if velocidadEnAtmosfera >= 20:\n",
    "    print(\"Salgan a ver el asteroide en el cielo!\")"
   ]
  },
  {
   "cell_type": "markdown",
   "metadata": {},
   "source": [
    "# Ejercicio and y or\n",
    "\n",
    "Escribir un programa que emita la advertencia o información correcta a la gente de la Tierra, según la velocidad y el tamaño de un asteroide. Utiliza instrucciones if, else, y elif, así como los operadores and y or."
   ]
  },
  {
   "cell_type": "code",
   "execution_count": 5,
   "metadata": {},
   "outputs": [
    {
     "name": "stdout",
     "output_type": "stream",
     "text": [
      "El asteroide no presenta peligro\n",
      "El asteroide no presenta riesgo y es visible desde la tierra, volteen al cielo.\n"
     ]
    }
   ],
   "source": [
    "tamanoAsteroide = 20\n",
    "velocidadAsteroide = 30 \n",
    "\n",
    "if tamanoAsteroide <= 25:\n",
    "    print(\"El asteroide no presenta peligro\")\n",
    "elif tamanoAsteroide >25 and tamanoAsteroide <1000:\n",
    "    print(\"El asteroide presenta alto riesgo.\")\n",
    "if velocidadAsteroide > 20 and tamanoAsteroide >25:\n",
    "    print(\"Evacuar zonas de riesgo.\")\n",
    "if velocidadAsteroide > 20 and tamanoAsteroide<25:\n",
    "    print(\"El asteroide no presenta riesgo y es visible desde la tierra, volteen al cielo.\")"
   ]
  }
 ],
 "metadata": {
  "interpreter": {
   "hash": "35d4b07c09c54aa082cb78bb463afbc8fcc452eb66c86a3d72d00ed3087e2e59"
  },
  "kernelspec": {
   "display_name": "Python 3.10.2 64-bit (windows store)",
   "language": "python",
   "name": "python3"
  },
  "language_info": {
   "codemirror_mode": {
    "name": "ipython",
    "version": 3
   },
   "file_extension": ".py",
   "mimetype": "text/x-python",
   "name": "python",
   "nbconvert_exporter": "python",
   "pygments_lexer": "ipython3",
   "version": "3.9.5"
  },
  "orig_nbformat": 4
 },
 "nbformat": 4,
 "nbformat_minor": 2
}
