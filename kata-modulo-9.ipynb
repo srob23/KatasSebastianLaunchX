{
 "cells": [
  {
   "cell_type": "markdown",
   "metadata": {},
   "source": [
    "# Ejercicio funciones en Python\n",
    "\n",
    "Trabajar con argumentos en funciones"
   ]
  },
  {
   "cell_type": "code",
   "execution_count": 4,
   "metadata": {},
   "outputs": [
    {
     "name": "stdout",
     "output_type": "stream",
     "text": [
      "Reporte de combustible:\n",
      "    Promedio total: 15.333333333333334\n",
      "    Combustible en tanque de alas: 15\n",
      "    Combustible en tanque de motor: 8\n",
      "    Combustible en tanque de turbinas: 23\n"
     ]
    }
   ],
   "source": [
    "def reporte_combustible(tanque_alas,tanque_motor,tanque_turbinas):\n",
    "    promedio = (tanque_alas + tanque_motor + tanque_turbinas)/3\n",
    "    return f\"\"\"Reporte de combustible:\n",
    "    Promedio total: {promedio}\n",
    "    Combustible en tanque de alas: {tanque_alas}\n",
    "    Combustible en tanque de motor: {tanque_motor}\n",
    "    Combustible en tanque de turbinas: {tanque_turbinas}\"\"\"\n",
    "print(reporte_combustible(15,8,23))"
   ]
  },
  {
   "cell_type": "code",
   "execution_count": 6,
   "metadata": {},
   "outputs": [
    {
     "name": "stdout",
     "output_type": "stream",
     "text": [
      "12.0\n"
     ]
    }
   ],
   "source": [
    "def promedio(*args):\n",
    "    suma = sum(args)\n",
    "    average = suma / len(args)\n",
    "    return average\n",
    "\n",
    "print(promedio(1,1,5,47,6))"
   ]
  },
  {
   "cell_type": "code",
   "execution_count": 7,
   "metadata": {},
   "outputs": [
    {
     "name": "stdout",
     "output_type": "stream",
     "text": [
      "Reporte de combustible:\n",
      "    Promedio total: 15.333333333333334\n",
      "    Combustible en tanque de alas: 15\n",
      "    Combustible en tanque de motor: 8\n",
      "    Combustible en tanque de turbinas: 23\n"
     ]
    }
   ],
   "source": [
    "def promedio(*args):\n",
    "    suma = sum(args)\n",
    "    average = suma / len(args)\n",
    "    return average\n",
    "\n",
    "def reporte_combustible(tanque_alas,tanque_motor,tanque_turbinas):\n",
    "    return f\"\"\"Reporte de combustible:\n",
    "    Promedio total: {promedio(tanque_alas,tanque_motor,tanque_turbinas)}\n",
    "    Combustible en tanque de alas: {tanque_alas}\n",
    "    Combustible en tanque de motor: {tanque_motor}\n",
    "    Combustible en tanque de turbinas: {tanque_turbinas}\"\"\"\n",
    "print(reporte_combustible(15,8,23))"
   ]
  },
  {
   "cell_type": "markdown",
   "metadata": {},
   "source": [
    "# Ejercicio argumentos de palabra clave\n",
    "\n",
    "Utilizar argumentos de palabra clave en funciones."
   ]
  },
  {
   "cell_type": "code",
   "execution_count": 8,
   "metadata": {},
   "outputs": [
    {
     "name": "stdout",
     "output_type": "stream",
     "text": [
      "Informe preciso de la misión: \n",
      "    Hora de prelanzamiento: 05:00\n",
      "    Tiempo de vuelo: 120\n",
      "    Destino: Estacion espacial internaciona\n",
      "    Tanque externo: 15\n",
      "    Tanque interno: 34\n",
      "    \n"
     ]
    }
   ],
   "source": [
    "def informe_preciso(hora_prelanzamiento,duracion,destino,tanque_ex,tanque_in):\n",
    "    return f\"\"\"Informe preciso de la misión: \n",
    "    Hora de prelanzamiento: {hora_prelanzamiento}\n",
    "    Tiempo de vuelo: {duracion}\n",
    "    Destino: {destino}\n",
    "    Tanque externo: {tanque_ex}\n",
    "    Tanque interno: {tanque_in}\n",
    "    \"\"\"\n",
    "print(informe_preciso(\"05:00\",\"120\",\"Estacion espacial internacional\",15,34))"
   ]
  },
  {
   "cell_type": "code",
   "execution_count": 12,
   "metadata": {},
   "outputs": [
    {
     "name": "stdout",
     "output_type": "stream",
     "text": [
      "Informe preciso de la misión: \n",
      "    Tiempo de vuelo: 120\n",
      "    Destino: ISS\n",
      "    Combustible restante: 42000\n",
      "    \n"
     ]
    }
   ],
   "source": [
    "def informe_preciso(destino,*minutes,**fuel_reservoirs):\n",
    "    return f\"\"\"Informe preciso de la misión: \n",
    "    Tiempo de vuelo: {sum(minutes)}\n",
    "    Destino: {destino}\n",
    "    Combustible restante: {sum(fuel_reservoirs.values())}\n",
    "    \"\"\"\n",
    "\n",
    "print(informe_preciso(\"ISS\",60,50,10,tanque_in=19000,tanque_ex=23000))"
   ]
  },
  {
   "cell_type": "code",
   "execution_count": 16,
   "metadata": {},
   "outputs": [
    {
     "name": "stdout",
     "output_type": "stream",
     "text": [
      "Informe preciso de la misión: \n",
      "    Tiempo de vuelo: 120\n",
      "    Destino: ISS\n",
      "    Combustible restante: 42000\n",
      "    tanque_in tiene 19000 galonestanque_ex tiene 23000 galones\n"
     ]
    }
   ],
   "source": [
    "def informe_preciso(destino,*minutes,**fuel_reservoirs):\n",
    "    reporte_principal = f\"\"\"Informe preciso de la misión: \n",
    "    Tiempo de vuelo: {sum(minutes)}\n",
    "    Destino: {destino}\n",
    "    Combustible restante: {sum(fuel_reservoirs.values())}\n",
    "    \"\"\"\n",
    "\n",
    "    for tanque,galones in fuel_reservoirs.items():\n",
    "        reporte_principal += f\"{tanque} tiene {galones} galones\"\n",
    "    return reporte_principal\n",
    "\n",
    "print(informe_preciso(\"ISS\",60,50,10,tanque_in=19000,tanque_ex=23000))"
   ]
  }
 ],
 "metadata": {
  "kernelspec": {
   "display_name": "Python 3",
   "language": "python",
   "name": "python3"
  },
  "language_info": {
   "codemirror_mode": {
    "name": "ipython",
    "version": 3
   },
   "file_extension": ".py",
   "mimetype": "text/x-python",
   "name": "python",
   "nbconvert_exporter": "python",
   "pygments_lexer": "ipython3",
   "version": "3.8.5"
  }
 },
 "nbformat": 4,
 "nbformat_minor": 4
}
