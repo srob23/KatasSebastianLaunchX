{
 "cells": [
  {
   "cell_type": "markdown",
   "metadata": {},
   "source": [
    "# Ejercicio listas\n",
    "\n",
    "Usar listas para almacenar nombres de planetas"
   ]
  },
  {
   "cell_type": "code",
   "execution_count": null,
   "metadata": {},
   "outputs": [],
   "source": [
    "planets_solar_system= [\"Mercury\",\"Venus\",\"Earth\",\"Mars\",\"Jupiter\",\"Saturn\",\"Uranus\",\"Neptune\"]\n",
    "\n",
    "print(len(planets_solar_system))\n",
    "planets_solar_system.append(\"Pluto\")\n",
    "\n",
    "print(planets_solar_system[-1])"
   ]
  },
  {
   "cell_type": "markdown",
   "metadata": {},
   "source": [
    "# Ejercicio 2 \n",
    "\n",
    "Trabjando con datos de una lista."
   ]
  },
  {
   "cell_type": "code",
   "execution_count": 15,
   "metadata": {},
   "outputs": [
    {
     "name": "stdout",
     "output_type": "stream",
     "text": [
      "Los planetas más cercanos que su planeta son: \n",
      "['Mercury', 'Venus', 'Earth', 'Mars']\n",
      "Y los más lejanos que su planeta son: \n",
      "['Jupiter', 'Saturn', 'Neptune']\n"
     ]
    }
   ],
   "source": [
    "planets = ['Mercury', 'Venus', 'Earth', 'Mars', 'Jupiter', 'Saturn', 'Neptune']\n",
    "\n",
    "planeta_usuario= input(\"Ingrese el nombre de un planeta\")\n",
    "\n",
    "if planeta_usuario in planets:\n",
    "    index_user = planets.index(planeta_usuario)\n",
    "    print(\"Los planetas más cercanos que su planeta son: \")\n",
    "    print(planets[0:index_user])\n",
    "    print(\"Y los más lejanos que su planeta son: \") \n",
    "    print(planets[index_user:])\n",
    "else:\n",
    "    print(\"Ingrese un nombre de planeta valido (en ingles y con inicial mayuscula)\")"
   ]
  }
 ],
 "metadata": {
  "interpreter": {
   "hash": "2740b07bebd5a9538dcad413d55b5f8f7bc0dae380b851836f69cf85491ff86f"
  },
  "kernelspec": {
   "display_name": "Python 3.9.5 64-bit",
   "language": "python",
   "name": "python3"
  },
  "language_info": {
   "codemirror_mode": {
    "name": "ipython",
    "version": 3
   },
   "file_extension": ".py",
   "mimetype": "text/x-python",
   "name": "python",
   "nbconvert_exporter": "python",
   "pygments_lexer": "ipython3",
   "version": "3.9.5"
  },
  "orig_nbformat": 4
 },
 "nbformat": 4,
 "nbformat_minor": 2
}
