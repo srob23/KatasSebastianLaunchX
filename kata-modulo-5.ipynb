{
 "cells": [
  {
   "cell_type": "markdown",
   "metadata": {},
   "source": [
    "# Ejercicio utilizar operadores aritméticos\n",
    "\n",
    "Utilizar operadores ariméticos para resolver problemas"
   ]
  },
  {
   "cell_type": "code",
   "execution_count": 6,
   "metadata": {},
   "outputs": [
    {
     "name": "stdout",
     "output_type": "stream",
     "text": [
      "628949330\n",
      "390577533.93\n"
     ]
    }
   ],
   "source": [
    "tierra = 149597870\n",
    "jupiter = 778547200\n",
    "\n",
    "distance = jupiter - tierra\n",
    "\n",
    "print(distance)\n",
    "\n",
    "distance_miles = distance*0.621\n",
    "\n",
    "print(distance_miles)"
   ]
  },
  {
   "cell_type": "markdown",
   "metadata": {},
   "source": [
    "# Ejercicio 2 operadores aritméticos\n",
    "\n",
    "Utilizar input para recibir valores ingresados por el usuario y realizar operaciones aritméticas con ellos."
   ]
  },
  {
   "cell_type": "code",
   "execution_count": 9,
   "metadata": {},
   "outputs": [
    {
     "name": "stdout",
     "output_type": "stream",
     "text": [
      "La distancia entre ambos planetas es: 550700000km\n",
      "O bien, la distancia es: 341984700.0millas\n"
     ]
    }
   ],
   "source": [
    "variable_1 = input(\"Cual es la distancia del primer planeta al sol?\")\n",
    "variable_2 = input(\"Cual es la distancia del segundo planeta al sol?\")\n",
    "\n",
    "if variable_1.isnumeric() and variable_2.isnumeric():\n",
    "    distancia = int(variable_1) - int(variable_2)\n",
    "    print(\"La distancia entre ambos planetas es: \" + str(abs(distancia)) + \" km\")\n",
    "    print(\"O bien, la distancia es: \" +str(abs(distancia*0.621)) + \" millas\" )\n",
    "else:\n",
    "    print(\"Debe ingresar numeros interos positivos para sus distancias.\")\n"
   ]
  }
 ],
 "metadata": {
  "interpreter": {
   "hash": "2740b07bebd5a9538dcad413d55b5f8f7bc0dae380b851836f69cf85491ff86f"
  },
  "kernelspec": {
   "display_name": "Python 3.9.5 64-bit",
   "language": "python",
   "name": "python3"
  },
  "language_info": {
   "codemirror_mode": {
    "name": "ipython",
    "version": 3
   },
   "file_extension": ".py",
   "mimetype": "text/x-python",
   "name": "python",
   "nbconvert_exporter": "python",
   "pygments_lexer": "ipython3",
   "version": "3.9.5"
  },
  "orig_nbformat": 4
 },
 "nbformat": 4,
 "nbformat_minor": 2
}
